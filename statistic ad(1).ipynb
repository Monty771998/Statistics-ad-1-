{
 "cells": [
  {
   "cell_type": "markdown",
   "id": "eb26229f-447b-4d98-9fa0-40a593157bc7",
   "metadata": {},
   "source": [
    "Q1. What is the Probability density function?"
   ]
  },
  {
   "cell_type": "markdown",
   "id": "59ac58c0-a5aa-40fe-a90a-9ea9c9d137ae",
   "metadata": {},
   "source": [
    "A PDF is a function used to describe the probability distribution of a continuous random variable. Unlike discrete\n",
    "random variables, where probabilities are assigned to specific values, a continuous random variable can take on any\n",
    "value within a range. The PDF provides the likelihood of a random variable falling within a specific interval."
   ]
  },
  {
   "cell_type": "code",
   "execution_count": null,
   "id": "63608172-92a2-40a0-8917-84accb45767d",
   "metadata": {},
   "outputs": [],
   "source": []
  },
  {
   "cell_type": "markdown",
   "id": "6b8b58b6-864a-471a-baf8-0a14c5152b9e",
   "metadata": {},
   "source": [
    "Q2. What are the types of Probability distribution?"
   ]
  },
  {
   "cell_type": "markdown",
   "id": "42d85eee-8f63-441f-b171-2037e82e9996",
   "metadata": {},
   "source": [
    "Probability distributions can be classified into two main categories:\n",
    "    \n",
    "(I)Discrete Probability Distributions-\n",
    "\n",
    "These distributions deal with discrete random variables, which can take on only a countable number of values.Examples include:   \n",
    "   1)Bernoulli distribution: Models a single experiment with two outcomes (success or failure).   \n",
    "   2)Binomial distribution: Models the number of successes in a fixed number of independent Bernoulli trials.   \n",
    "   3)Poisson distribution: Models the number of events occurring in a fixed interval of time or space.   \n",
    "   4)Geometric distribution: Models the number of trials needed to achieve the first success in a sequence of Bernoulli trials.   \n",
    "\n",
    "    \n",
    "(II)Continuous Probability Distributions-\n",
    "These distributions deal with continuous random variables, which can take on any value within a specified range.\n",
    "Examples include:   \n",
    "\n",
    "   1)Normal distribution: The most widely used distribution, characterized by its bell-shaped curve.   \n",
    "   2)Uniform distribution: All outcomes are equally likely within a specified range.\n",
    "   3)Exponential distribution: Models the time between events in a Poisson process.\n",
    "   4)Gamma distribution: Generalization of the exponential distribution.    "
   ]
  },
  {
   "cell_type": "code",
   "execution_count": null,
   "id": "e402907e-6146-422c-b645-9931253aa827",
   "metadata": {},
   "outputs": [],
   "source": []
  },
  {
   "cell_type": "markdown",
   "id": "58321e53-3926-4397-a145-590c9c4cee38",
   "metadata": {},
   "source": [
    "Q3. Write a Python function to calculate the probability density function of a normal distribution with\n",
    "given mean and standard deviation at a given point."
   ]
  },
  {
   "cell_type": "code",
   "execution_count": 4,
   "id": "ea001d92-c528-46a8-9ed2-11927e8215f3",
   "metadata": {},
   "outputs": [
    {
     "name": "stdout",
     "output_type": "stream",
     "text": [
      "PDF at x = 75 is: 0.03520653267642995\n"
     ]
    }
   ],
   "source": [
    "import math\n",
    "\n",
    "def normal_pdf(x, mean, std_dev):\n",
    "\n",
    "  exponent = -((x - mean) ** 2) / (2 * std_dev ** 2)\n",
    "  coefficient = 1 / (std_dev * math.sqrt(2 * math.pi))\n",
    "  pdf = coefficient * math.exp(exponent)\n",
    "  return pdf\n",
    "\n",
    "# Example usage:\n",
    "mean = 70\n",
    "std_dev = 10\n",
    "x = 75\n",
    "pdf_value = normal_pdf(x, mean, std_dev)\n",
    "print(\"PDF at x =\", x, \"is:\", pdf_value)\n"
   ]
  },
  {
   "cell_type": "code",
   "execution_count": null,
   "id": "3801cf46-b945-47f4-8542-b88798c7dde0",
   "metadata": {},
   "outputs": [],
   "source": []
  },
  {
   "cell_type": "markdown",
   "id": "10c4dd85-7f30-42e2-adf3-5b1b7c8c1e1c",
   "metadata": {},
   "source": [
    "Q4. What are the properties of Binomial distribution? Give two examples of events where binomial\n",
    "distribution can be applied."
   ]
  },
  {
   "cell_type": "markdown",
   "id": "322a71d0-d3ab-43e2-bce5-3c8d6cf22b35",
   "metadata": {},
   "source": [
    "Properties of Binomial Distribution-\n",
    "   1)Two possible outcomes: Each trial results in either success or failure.\n",
    "   2)Fixed number of trials: The experiment is conducted a fixed number of times (n).\n",
    "   3)Independent trials: The outcome of one trial does not affect the outcome of another.\n",
    "   4)Constant probability of success: The probability of success (p) remains the same for each trial.   \n",
    "\n",
    "Examples of Binomial Distribution\n",
    "   1)Flipping a coin: Each flip is a trial with two outcomes (heads or tails), and the probability of heads (or tails)\n",
    "                      remains constant.   \n",
    "   2)Quality control: Inspecting a batch of products for defects, where each product is a trial with two outcomes\n",
    "                      (defective or non-defective)."
   ]
  },
  {
   "cell_type": "code",
   "execution_count": null,
   "id": "8e7389c2-fe62-4dca-9d04-500228928e92",
   "metadata": {},
   "outputs": [],
   "source": []
  },
  {
   "cell_type": "markdown",
   "id": "0486ba9b-e5fe-4172-b318-703955b0c509",
   "metadata": {},
   "source": [
    "Q5. Generate a random sample of size 1000 from a binomial distribution with probability of success 0.4\n",
    "and plot a histogram of the results using matplotlib."
   ]
  },
  {
   "cell_type": "code",
   "execution_count": 5,
   "id": "73bb5801-721c-43d1-b9cc-8ab3d0c07393",
   "metadata": {},
   "outputs": [
    {
     "data": {
      "image/png": "[encoded data removed]",
      "text/plain": [
       "<Figure size 640x480 with 1 Axes>"
      ]
     },
     "metadata": {},
     "output_type": "display_data"
    }
   ],
   "source": [
    "import numpy as np\n",
    "import matplotlib.pyplot as plt\n",
    "\n",
    "# Generate random sample from binomial distribution\n",
    "n = 1000\n",
    "p = 0.4\n",
    "sample = np.random.binomial(n, p, size=1000)\n",
    "\n",
    "# Plot histogram\n",
    "plt.hist(sample, bins=20, density=True, alpha=0.6, color='g')\n",
    "plt.xlabel('Number of successes')\n",
    "plt.ylabel('Probability density')\n",
    "plt.title('Binomial Distribution (n=1000, p=0.4)')\n",
    "plt.grid(True)\n",
    "plt.show()\n"
   ]
  },
  {
   "cell_type": "code",
   "execution_count": null,
   "id": "b60743e2-3beb-4701-a794-8d18b04a1ee8",
   "metadata": {},
   "outputs": [],
   "source": []
  },
  {
   "cell_type": "markdown",
   "id": "1a057ac9-24b6-4833-bc32-13d9c720842c",
   "metadata": {},
   "source": [
    "Q6. Write a Python function to calculate the cumulative distribution function of a Poisson distribution\n",
    "with given mean at a given point."
   ]
  },
  {
   "cell_type": "code",
   "execution_count": 7,
   "id": "9c165fdd-448e-40ca-8881-997e837a33ab",
   "metadata": {},
   "outputs": [
    {
     "name": "stdout",
     "output_type": "stream",
     "text": [
      "The cumulative probability for k = 2 and mean = 3 is: 0.42319008112684353\n"
     ]
    }
   ],
   "source": [
    "import math\n",
    "\n",
    "def poisson_cdf(k, mean):\n",
    "  \"\"\"Calculates the cumulative distribution function of a Poisson distribution.\"\"\"\n",
    "\n",
    "  cdf = 0\n",
    "  for i in range(k + 1):\n",
    "    cdf += (math.exp(-mean) * (mean ** i)) / math.factorial(i)\n",
    "  return cdf\n",
    "\n",
    "# Example usage:\n",
    "mean_value = 3\n",
    "k_value = 2\n",
    "cdf_result = poisson_cdf(k_value, mean_value)\n",
    "print(\"The cumulative probability for k =\", k_value, \"and mean =\", mean_value, \"is:\", cdf_result)\n"
   ]
  },
  {
   "cell_type": "code",
   "execution_count": null,
   "id": "c9e6c7bc-bf76-4519-8c8e-a647b06233a7",
   "metadata": {},
   "outputs": [],
   "source": []
  },
  {
   "cell_type": "markdown",
   "id": "473f81a8-641c-49eb-80da-46ce0499daa6",
   "metadata": {},
   "source": [
    "Q7. How Binomial distribution different from Poisson distribution?"
   ]
  },
  {
   "cell_type": "markdown",
   "id": "efcb3dc1-3c6c-4b70-bed0-9b88ea7ea279",
   "metadata": {},
   "source": [
    "Binomial Distribution:\n",
    "\n",
    "    1)Fixed number of trials (n)\n",
    "    2)Each trial has two outcomes (success or failure)   \n",
    "    3)Probability of success (p) is constant   \n",
    "    4)Trials are independent   \n",
    "\n",
    "    \n",
    "Poisson Distribution:\n",
    "\n",
    "    1)Number of trials is not fixed\n",
    "    2)Events occur randomly over a continuous interval (time, space, etc.)\n",
    "    3)Average rate of occurrence is constant   \n",
    "    4)Events are independent   \n",
    "\n",
    "    \n",
    "Key Differences:\n",
    "\n",
    "Binomial distribution deals with a finite number of trials, while Poisson distribution deals with events occurring over a continuous interval.   \n",
    "Binomial distribution has two possible outcomes per trial, while Poisson distribution counts the number of occurrences of an event.   \n",
    "\n",
    "\n",
    "Example:\n",
    "\n",
    "Binomial: Flipping a coin 10 times and counting the number of heads.\n",
    "Poisson: Counting the number of cars arriving at a toll booth in an hour.\n"
   ]
  },
  {
   "cell_type": "code",
   "execution_count": null,
   "id": "867e5bfe-fdfd-45aa-ae22-b699a90a3b86",
   "metadata": {},
   "outputs": [],
   "source": []
  },
  {
   "cell_type": "markdown",
   "id": "1e05e02c-9c15-49c0-9f21-4880cf58a834",
   "metadata": {},
   "source": [
    "Q8. Generate a random sample of size 1000 from a Poisson distribution with mean 5 and calculate the\n",
    "sample mean and variance."
   ]
  },
  {
   "cell_type": "code",
   "execution_count": 8,
   "id": "a291761c-a9ae-483d-8d73-8c84347e9160",
   "metadata": {},
   "outputs": [
    {
     "name": "stdout",
     "output_type": "stream",
     "text": [
      "Sample mean: 4.959\n",
      "Sample variance: 4.8973189999999995\n"
     ]
    }
   ],
   "source": [
    "import numpy as np\n",
    "\n",
    "# Generate random sample from Poisson distribution\n",
    "mean_value = 5\n",
    "sample_size = 1000\n",
    "sample = np.random.poisson(mean_value, size=sample_size)\n",
    "\n",
    "# Calculate sample mean and variance\n",
    "sample_mean = np.mean(sample)\n",
    "sample_variance = np.var(sample)\n",
    "\n",
    "print(\"Sample mean:\", sample_mean)\n",
    "print(\"Sample variance:\", sample_variance)\n"
   ]
  },
  {
   "cell_type": "code",
   "execution_count": null,
   "id": "292a098d-af35-4cf2-a38b-7af38bb65d8e",
   "metadata": {},
   "outputs": [],
   "source": []
  },
  {
   "cell_type": "markdown",
   "id": "1add3a16-104a-4a2f-8b43-101c1439a832",
   "metadata": {},
   "source": [
    "Q9. How mean and variance are related in Binomial distribution and Poisson distribution?"
   ]
  },
  {
   "cell_type": "markdown",
   "id": "384b714c-94d3-4908-a311-6a02a2d34f91",
   "metadata": {},
   "source": [
    "*Mean and Variance Relationship-\n",
    "\n",
    "Binomial Distribution\n",
    "a)Mean: np (where n is the number of trials and p is the probability of success)\n",
    "b)Variance: np(1-p)\n",
    "\n",
    "Poisson Distribution\n",
    "a)Mean: λ (lambda), the average rate of occurrence\n",
    "b)Variance: λ (lambda), the same as the mean\n",
    "\n",
    "Binomial distribution: Mean and variance are different but related through the parameters n and p.\n",
    "Poisson distribution: Mean and variance are equal to the same parameter, λ.\n"
   ]
  },
  {
   "cell_type": "code",
   "execution_count": null,
   "id": "82dc4885-414e-43ef-b574-2739402d6208",
   "metadata": {},
   "outputs": [],
   "source": []
  },
  {
   "cell_type": "markdown",
   "id": "2889305b-dc2d-480d-9613-96e376da5e8d",
   "metadata": {},
   "source": [
    "Q10. In normal distribution with respect to mean position, where does the least frequent data appear?"
   ]
  },
  {
   "cell_type": "markdown",
   "id": "caf33a75-675b-4d74-96c6-fc71aa44316b",
   "metadata": {},
   "source": [
    "In a normal distribution, the least frequent data appears in the tails of the distribution, farthest from the mean.   \n",
    "\n",
    "The normal distribution is symmetrical, with the highest frequency of data points occurring at the mean. As you move away from the mean in either direction, the frequency of data points decreases, resulting in the tails of the distribution"
   ]
  },
  {
   "cell_type": "code",
   "execution_count": null,
   "id": "ea0d4c14-d7dc-4629-bf6f-7e0d1f9a0e84",
   "metadata": {},
   "outputs": [],
   "source": []
  },
  {
   "cell_type": "code",
   "execution_count": null,
   "id": "0cb87874-d6bf-49f1-87f8-a66b570af17a",
   "metadata": {},
   "outputs": [],
   "source": []
  },
  {
   "cell_type": "code",
   "execution_count": null,
   "id": "7c48acb6-a287-4ed2-95dc-6452c22e62e4",
   "metadata": {},
   "outputs": [],
   "source": []
  },
  {
   "cell_type": "code",
   "execution_count": null,
   "id": "014df297-2881-498d-a739-d59325c99d22",
   "metadata": {},
   "outputs": [],
   "source": []
  },
  {
   "cell_type": "code",
   "execution_count": null,
   "id": "41fdfff5-e8bf-4f8e-ba42-f8f091831ac6",
   "metadata": {},
   "outputs": [],
   "source": []
  },
  {
   "cell_type": "code",
   "execution_count": null,
   "id": "53976b53-3a75-412c-9803-aece2636fac6",
   "metadata": {},
   "outputs": [],
   "source": []
  },
  {
   "cell_type": "code",
   "execution_count": null,
   "id": "c33f39a7-8324-4fb9-8d16-e353134ff662",
   "metadata": {},
   "outputs": [],
   "source": []
  },
  {
   "cell_type": "code",
   "execution_count": null,
   "id": "21db7f55-b69a-4e29-85fc-5e7477c70542",
   "metadata": {},
   "outputs": [],
   "source": []
  },
  {
   "cell_type": "code",
   "execution_count": null,
   "id": "ebe9d894-b166-4998-ab8f-1f814f34271c",
   "metadata": {},
   "outputs": [],
   "source": []
  },
  {
   "cell_type": "code",
   "execution_count": null,
   "id": "d582be0c-c339-4912-9fec-183705ddb1e4",
   "metadata": {},
   "outputs": [],
   "source": []
  },
  {
   "cell_type": "code",
   "execution_count": null,
   "id": "81a6b545-b72c-41cd-ad58-8e9ae7598331",
   "metadata": {},
   "outputs": [],
   "source": []
  },
  {
   "cell_type": "code",
   "execution_count": null,
   "id": "7a6a4a42-f41c-4f59-b8ef-5bc43719b7de",
   "metadata": {},
   "outputs": [],
   "source": []
  }
 ],
 "metadata": {
  "kernelspec": {
   "display_name": "Python 3 (ipykernel)",
   "language": "python",
   "name": "python3"
  },
  "language_info": {
   "codemirror_mode": {
    "name": "ipython",
    "version": 3
   },
   "file_extension": ".py",
   "mimetype": "text/x-python",
   "name": "python",
   "nbconvert_exporter": "python",
   "pygments_lexer": "ipython3",
   "version": "3.10.8"
  }
 },
 "nbformat": 4,
 "nbformat_minor": 5
}
